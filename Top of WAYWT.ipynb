{
 "cells": [
  {
   "cell_type": "markdown",
   "metadata": {
    "collapsed": true
   },
   "source": [
    "# Top of /r/femalefashionadvice WAYWT\n",
    "\n",
    "A script to get all the top comments in the WAYWT of a given month and format them for a post. This was formerly done manually by /u/thecurvynerd (thank you!). Example post: https://www.reddit.com/r/femalefashionadvice/comments/61241t/top_of_waywt_february_2017/\n",
    "\n",
    "This script does NOT create the imgur album linked to in the title."
   ]
  },
  {
   "cell_type": "markdown",
   "metadata": {},
   "source": [
    "The example post, for reference. Jupyter notebook does not render `^` as superscripts."
   ]
  },
  {
   "cell_type": "markdown",
   "metadata": {},
   "source": [
    "## [Top of WAYWT: FEBRUARY 2017](http://imgur.com/a/t0468)\n",
    "\n",
    "> 1\\. [Post](https://www.reddit.com/r/femalefashionadvice/comments/5waqux/waywt_february_26_2017/de8oszc/) ^(by */u/Wasmand*) ^**(+162)**  \n",
    "2\\. [Post](https://www.reddit.com/r/femalefashionadvice/comments/5vjhx0/waywt_february_22_2017/de2j8k6/) ^(by */u/Bloopity_bloop_bloop*) ^**(+141)**  \n",
    "3\\. [Post](https://www.reddit.com/r/femalefashionadvice/comments/5u89ok/waywt_february_15_2017/dds52c9/) ^(by */u/sohungy*) ^**(+130)**  \n",
    "4\\. [Post](https://www.reddit.com/r/femalefashionadvice/comments/5s847m/waywt_february_05_2017/ddd7aw1/) ^(by */u/smolherring*) ^**(+121)**  \n",
    "5\\. [Post](https://www.reddit.com/r/femalefashionadvice/comments/5rgaam/waywt_february_01_2017/dd7dgp6/) ^(by */u/shercocked*) ^**(+119)**  \n",
    "6\\. [Post](https://www.reddit.com/r/femalefashionadvice/comments/5waqux/waywt_february_26_2017/de8q9sw/) ^(by */u/sohungy*) ^**(+109)**  \n",
    "7\\. [Post](https://www.reddit.com/r/femalefashionadvice/comments/5tm3q4/waywt_february_12_2017/ddniypv/) ^(by */u/BlueSpiritBlues*) ^**(+104)**  \n",
    "8\\. [Post](https://www.reddit.com/r/femalefashionadvice/comments/5rgaam/waywt_february_01_2017/dd72crh/) ^(by */u/ayiyi*) ^**(+103)**  \n",
    "9\\. [Post](https://www.reddit.com/r/femalefashionadvice/comments/5stiil/waywt_february_08_2017/ddhoahf/) ^(by */u/collapsedgovernment*) ^**(+101)**  \n",
    "10\\. [Post](https://www.reddit.com/r/femalefashionadvice/comments/5uyvqj/waywt_february_19_2017/ddy47x4/) ^(by */u/collapsedgovernment*) ^**(+100)**  \n",
    "11\\. [Post](https://www.reddit.com/r/femalefashionadvice/comments/5u89ok/waywt_february_15_2017/ddships/) ^(by */u/shercocked*) ^**(+99)**  \n",
    "12\\. [Post](https://www.reddit.com/r/femalefashionadvice/comments/5tm3q4/waywt_february_12_2017/ddnksu0/) ^(by */u/somethings_nothings*) ^**(+95)**  \n",
    "13\\. [Post](https://www.reddit.com/r/femalefashionadvice/comments/5vjhx0/waywt_february_22_2017/de2np2z/) ^(by */u/ayiyi*) ^**(+92)**  \n",
    "14\\. [Post](https://www.reddit.com/r/femalefashionadvice/comments/5waqux/waywt_february_26_2017/de8quxg/) ^(by */u/SusannaCarmichael*) ^**(+92)**  \n",
    "15\\. [Post](https://www.reddit.com/r/femalefashionadvice/comments/5tm3q4/waywt_february_12_2017/ddnkz7v/) ^(by */u/HAPiper*) ^**(+91)**  \n",
    "16\\. [Post](https://www.reddit.com/r/femalefashionadvice/comments/5s847m/waywt_february_05_2017/ddd488f/) ^(by */u/BlueSpiritBlues*) ^**(+89)**  \n",
    "17\\. [Post](https://www.reddit.com/r/femalefashionadvice/comments/5stiil/waywt_february_08_2017/ddhp9gw/) ^(by */u/MonocleLewinsky*) ^**(+86)**  \n",
    "18\\. [Post](https://www.reddit.com/r/femalefashionadvice/comments/5u89ok/waywt_february_15_2017/ddsdf5o/) ^(by */u/saphydoodle*) ^**(+86)**  \n",
    "19\\. [Post](https://www.reddit.com/r/femalefashionadvice/comments/5stiil/waywt_february_08_2017/ddhq1oh/) ^(by */u/sohungy*) ^**(+83)**  \n",
    "20\\. [Post](https://www.reddit.com/r/femalefashionadvice/comments/5stiil/waywt_february_08_2017/ddhyjzl/) ^(by */u/skyllanyx*) ^**(+82)**  \n",
    "21\\. [Post](https://www.reddit.com/r/femalefashionadvice/comments/5uyvqj/waywt_february_19_2017/ddxw5ba/) ^(by */u/ceruleanmuse*) ^**(+80)**  \n",
    "22\\. [Post](https://www.reddit.com/r/femalefashionadvice/comments/5rgaam/waywt_february_01_2017/dd6yr0e/) ^(by */u/villonious*) ^**(+79)**  \n",
    "23\\. [Post](https://www.reddit.com/r/femalefashionadvice/comments/5u89ok/waywt_february_15_2017/dds54vw/) ^(by */u/BlueSpiritBlues*) ^**(+77)**  \n",
    "24\\. [Post](https://www.reddit.com/r/femalefashionadvice/comments/5waqux/waywt_february_26_2017/de8mjjn/) ^(by */u/muzzyhoo92*) ^**(+75)**  \n",
    "25\\. [Post](https://www.reddit.com/r/femalefashionadvice/comments/5rgaam/waywt_february_01_2017/dd73qqj/) ^(by */u/earth_rises*) ^**(+72)**  \n",
    "26\\. [Post](https://www.reddit.com/r/femalefashionadvice/comments/5u89ok/waywt_february_15_2017/ddshqzt/) ^(by */u/imogenimpulse*) ^**(+72)**  \n",
    "27\\. [Post](https://www.reddit.com/r/femalefashionadvice/comments/5uyvqj/waywt_february_19_2017/ddxwku5/) ^(by */u/startupwoes*) ^**(+72)**  \n",
    "28\\. [Post](https://www.reddit.com/r/femalefashionadvice/comments/5waqux/waywt_february_26_2017/de93lv0/) ^(by */u/BlueSpiritBlues*) ^**(+71)**  \n",
    "29\\. [Post](https://www.reddit.com/r/femalefashionadvice/comments/5waqux/waywt_february_26_2017/de8o2fb/) ^(by */u/villonious*) ^**(+69)**  \n",
    "30\\. [Post](https://www.reddit.com/r/femalefashionadvice/comments/5uyvqj/waywt_february_19_2017/ddy0dxj/) ^(by */u/Scrap-Icon*) ^**(+68)**  \n",
    "31\\. [Post](https://www.reddit.com/r/femalefashionadvice/comments/5tm3q4/waywt_february_12_2017/ddnrafw/) ^(by */u/villonious*) ^**(+67)**  \n",
    "32\\. [Post](https://www.reddit.com/r/femalefashionadvice/comments/5vjhx0/waywt_february_22_2017/de2o3h5/) ^(by */u/BlueSpiritBlues*) ^**(+67)**  \n",
    "33\\. [Post](https://www.reddit.com/r/femalefashionadvice/comments/5s847m/waywt_february_05_2017/ddd2ivh/) ^(by */u/aftertheswimmingpool*) ^**(+65)**  \n",
    "34\\. [Post](https://www.reddit.com/r/femalefashionadvice/comments/5vjhx0/waywt_february_22_2017/de2mlpz/) ^(by */u/averagefruit*) ^**(+65)**  \n"
   ]
  },
  {
   "cell_type": "markdown",
   "metadata": {},
   "source": [
    "## Usage\n",
    "\n",
    "### Knowledge Prerequisites\n",
    "\n",
    "It will be a lot less painful to use this if you have experience using jupyter notebook. This section expects you know how to download this `ipynb` file (or the whole repository), install dependencies (manually, using a virtualenv, or using conda env) and set environment variables.\n",
    "\n",
    "### Dependencies\n",
    "\n",
    "This script requires the following to be installed on your computer:\n",
    "\n",
    "- [python](https://www.python.org/downloads/) 3.5 (probably any python 3.x would work, but I used 3.5)\n",
    "- [jupyter notebook](http://jupyter.org/install.html)\n",
    "- [PRAW](https://praw.readthedocs.io/en/latest/index.html) (the Python Reddit API Wrapper).\n",
    "\n",
    "There is a `environment.yml` file if you want to create a conda env (`conda env create -f environment.yml`) with jupyter and python 3.5. Conda does not have `praw` as of August 2017, so you will need to `pip install` that manually.\n",
    "\n",
    "### Environment Variables\n",
    "\n",
    "The reddit API requires you to register your app to be able to use it. You can get an app ID and app secret by following the steps [here](https://github.com/reddit/reddit/wiki/OAuth2-Quick-Start-Example#first-steps). Select 'script' when it asks what type of app it will be.\n",
    "\n",
    "Save the app ID, app secret, and your reddit username as [environment variables](https://en.wikipedia.org/wiki/Environment_variable#Assignment). How you set these depends on what OS you're using.\n",
    "\n",
    "```\n",
    "export REDDIT_CLIENT_ID=your_id\n",
    "export REDDIT_CLIENT_SECRET=your_secret\n",
    "export REDDIT_USER=your_username\n",
    "```\n",
    "\n",
    "### Run the script\n",
    "\n",
    "In the cell that says\n",
    "\n",
    "```\n",
    "# read-only subreddit instance\n",
    "ffa = reddit.subreddit('femalefashionadvice')\n",
    "# 1-indexed months. e.g. 2 would be February\n",
    "MONTH = 2\n",
    "YEAR = 2017\n",
    "# How many comments you want in the 'Top of' list.\n",
    "LIMIT = 34\n",
    "```\n",
    "\n",
    "Set `MONTH`, `YEAR`, and `LIMIT` to the values you want.\n",
    "\n",
    "Unfortunately this script still requires manual intervention to filter out WAYWT posts within the month time range that are not, in fact, WAYWT posts. You can select the cell *under* the one that says `print_titles(month_submissions_with_waywt)`, and then from the notebook toolbar select `Cell` > `Run all above` to run all the cells up to that point. It should print a list of the submissions that contain 'WAYWT' in the title and were posted in the month you set. Here you can see that you would want to filter out things like previous \"top of\" posts. \n",
    "\n",
    "You can then change the variable `not_waywt = [3, 4, 7, 8, 10]` to have the numbers of the posts that you *don't* want to include. With that cell selected, you can then do `Run all below` to run the rest of the script.\n",
    "\n",
    "You can paste the output of the `print(top_of_waywt_post)` cell in the bottom markdown cell to see what it would look like with formatting applied.\n",
    "\n",
    "Note that deleted comments (if a comment author is `None`) are not included.\n",
    "\n",
    "The code in this notebook is not the cleanest or most optimized because I am lazy, but hopefully it is still useful."
   ]
  },
  {
   "cell_type": "code",
   "execution_count": 1,
   "metadata": {},
   "outputs": [],
   "source": [
    "import calendar\n",
    "import os\n",
    "\n",
    "from datetime import datetime\n",
    "\n",
    "import praw"
   ]
  },
  {
   "cell_type": "code",
   "execution_count": 2,
   "metadata": {},
   "outputs": [],
   "source": [
    "def get_all_submissions_for_month(month, year):\n",
    "    \"\"\"\n",
    "    Params\n",
    "    ------\n",
    "    month: int\n",
    "    year: int\n",
    "    \"\"\"\n",
    "    # https://stackoverflow.com/questions/42950/get-last-day-of-the-month-in-python\n",
    "    last_day_of_month = calendar.monthrange(YEAR, MONTH)[1]\n",
    "\n",
    "    unix_start_month = datetime.timestamp(datetime(YEAR, MONTH, 1))\n",
    "    unix_end_month = datetime.timestamp(datetime(YEAR, MONTH, last_day_of_month))\n",
    "    \n",
    "    return [post for post in ffa.submissions(start=unix_start_month, end=unix_end_month, extra_query=None)]\n"
   ]
  },
  {
   "cell_type": "code",
   "execution_count": 3,
   "metadata": {
    "collapsed": true
   },
   "outputs": [],
   "source": [
    "def is_waywt(submission):\n",
    "    return ('WAYWT' in submission.title) and ('Announcement' not in submission.title)"
   ]
  },
  {
   "cell_type": "code",
   "execution_count": 4,
   "metadata": {},
   "outputs": [],
   "source": [
    "def print_titles(submissions):\n",
    "    # print for human checking\n",
    "    if not submissions:\n",
    "        print(\"No submissions to print!\")\n",
    "    else:\n",
    "        for i,submission in enumerate(submissions):\n",
    "            print('{0}. {1}'.format(i, submission.title))"
   ]
  },
  {
   "cell_type": "code",
   "execution_count": 5,
   "metadata": {},
   "outputs": [],
   "source": [
    "def extract_comments(submission):\n",
    "    # This will exclude the 'more comments' objects\n",
    "    submission.comments.replace_more(limit=0)\n",
    "    # Manually sort because setting submission.comment_sort to 'top' does not seem to actually sort by upvotes\n",
    "    return [top_level_comment for top_level_comment in submission.comments if top_level_comment.author is not None]"
   ]
  },
  {
   "cell_type": "code",
   "execution_count": 6,
   "metadata": {
    "collapsed": true
   },
   "outputs": [],
   "source": [
    "def sort_comments_by_upvotes(comments):\n",
    "    \"\"\"comments is a list of pram Comments\"\"\"\n",
    "    return sorted(comments, key=lambda x: x.ups, reverse=True)"
   ]
  },
  {
   "cell_type": "code",
   "execution_count": 7,
   "metadata": {
    "collapsed": true
   },
   "outputs": [],
   "source": [
    "def get_all_comments(submissions):\n",
    "    all_comments = []\n",
    "    for submission in submissions:\n",
    "        all_comments += extract_comments(submission)\n",
    "    return all_comments"
   ]
  },
  {
   "cell_type": "code",
   "execution_count": 8,
   "metadata": {},
   "outputs": [],
   "source": [
    "def print_top_n_comments(limit, comments):\n",
    "    \"\"\"\n",
    "    Params\n",
    "    ------\n",
    "    limit: int\n",
    "    \"\"\"\n",
    "    info = \"Author: /u/{0}\\nUpvotes: {1}\\nPermalink: {2}\\n\\n\"\n",
    "    for comment in comments[:limit]:\n",
    "        print(info.format(comment.author, comment.ups, 'https://reddit.com'+comment.permalink()))"
   ]
  },
  {
   "cell_type": "code",
   "execution_count": 9,
   "metadata": {},
   "outputs": [],
   "source": [
    "# Instantiate your read-only reddit instance using PRAW\n",
    "# You should have these set as environment variables\n",
    "reddit = praw.Reddit(client_id=os.environ.get('REDDIT_CLIENT_ID'),\n",
    "                     client_secret=os.environ.get('REDDIT_CLIENT_SECRET'),\n",
    "                     user_agent=os.environ.get('REDDIT_USER'))"
   ]
  },
  {
   "cell_type": "code",
   "execution_count": 10,
   "metadata": {
    "collapsed": true
   },
   "outputs": [],
   "source": [
    "# read-only subreddit instance\n",
    "ffa = reddit.subreddit('femalefashionadvice')\n",
    "# 1-indexed months. e.g. 2 would be February\n",
    "MONTH = 2\n",
    "YEAR = 2017\n",
    "# How many comments you want in the 'Top of' list.\n",
    "LIMIT = 34"
   ]
  },
  {
   "cell_type": "code",
   "execution_count": 11,
   "metadata": {},
   "outputs": [],
   "source": [
    "month_submissions = get_all_submissions_for_month(MONTH, YEAR)"
   ]
  },
  {
   "cell_type": "code",
   "execution_count": 12,
   "metadata": {
    "collapsed": true
   },
   "outputs": [],
   "source": [
    "month_submissions_with_waywt = [submission for submission in month_submissions if is_waywt(submission)]"
   ]
  },
  {
   "cell_type": "code",
   "execution_count": 13,
   "metadata": {},
   "outputs": [
    {
     "name": "stdout",
     "output_type": "stream",
     "text": [
      "0. WAYWT - February 26, 2017\n",
      "1. WAYWT - February 22, 2017\n",
      "2. WAYWT - February 19, 2017\n",
      "3. /r/TeenFA's Top of WAYWT: January 2017\n",
      "4. Top of WAYWT: January 2017\n",
      "5. WAYWT - February 15, 2017\n",
      "6. WAYWT - February 12, 2017\n",
      "7. Obscuring Your Face in WAYWT Pics (x-post r/malefashionadvice)\n",
      "8. Month Long WAYWT Album Thread!\n",
      "9. WAYWT - February 08, 2017\n",
      "10. REMINDER: Month Long WAYWT ends this Wednesday 2/8! Thread at 12PM EST!(x-post MFA)\n",
      "11. WAYWT - February 05, 2017\n",
      "12. WAYWT - February 01, 2017\n"
     ]
    }
   ],
   "source": [
    "print_titles(month_submissions_with_waywt)"
   ]
  },
  {
   "cell_type": "code",
   "execution_count": 14,
   "metadata": {},
   "outputs": [
    {
     "name": "stdout",
     "output_type": "stream",
     "text": [
      "0. WAYWT - February 26, 2017\n",
      "1. WAYWT - February 22, 2017\n",
      "2. WAYWT - February 19, 2017\n",
      "3. WAYWT - February 15, 2017\n",
      "4. WAYWT - February 12, 2017\n",
      "5. WAYWT - February 08, 2017\n",
      "6. WAYWT - February 05, 2017\n",
      "7. WAYWT - February 01, 2017\n"
     ]
    }
   ],
   "source": [
    "# You probably need to manually intervene here\n",
    "# Note that you need to stick to the zero-indexing as printed above.\n",
    "not_waywt = [3, 4, 7, 8, 10]\n",
    "month_waywts = []\n",
    "for i,submission in enumerate(month_submissions_with_waywt):\n",
    "    if i not in not_waywt:\n",
    "        month_waywts.append(submission)\n",
    "\n",
    "print_titles(month_waywts)"
   ]
  },
  {
   "cell_type": "code",
   "execution_count": 15,
   "metadata": {},
   "outputs": [],
   "source": [
    "# this might take a couple of seconds\n",
    "all_top_level_comments = get_all_comments(month_waywts)"
   ]
  },
  {
   "cell_type": "code",
   "execution_count": 16,
   "metadata": {},
   "outputs": [],
   "source": [
    "sorted_comments = sort_comments_by_upvotes(all_top_level_comments)"
   ]
  },
  {
   "cell_type": "code",
   "execution_count": 17,
   "metadata": {},
   "outputs": [
    {
     "name": "stdout",
     "output_type": "stream",
     "text": [
      "Author: /u/Wasmand\n",
      "Upvotes: 178\n",
      "Permalink: https://reddit.com/r/femalefashionadvice/comments/5waqux/waywt_february_26_2017/de8oszc\n",
      "\n",
      "\n",
      "Author: /u/sohungy\n",
      "Upvotes: 141\n",
      "Permalink: https://reddit.com/r/femalefashionadvice/comments/5u89ok/waywt_february_15_2017/dds52c9\n",
      "\n",
      "\n",
      "Author: /u/smolherring\n",
      "Upvotes: 128\n",
      "Permalink: https://reddit.com/r/femalefashionadvice/comments/5s847m/waywt_february_05_2017/ddd7aw1\n",
      "\n",
      "\n",
      "Author: /u/shercocked\n",
      "Upvotes: 118\n",
      "Permalink: https://reddit.com/r/femalefashionadvice/comments/5rgaam/waywt_february_01_2017/dd7dgp6\n",
      "\n",
      "\n",
      "Author: /u/sohungy\n",
      "Upvotes: 108\n",
      "Permalink: https://reddit.com/r/femalefashionadvice/comments/5waqux/waywt_february_26_2017/de8q9sw\n",
      "\n",
      "\n",
      "Author: /u/ayiyi\n",
      "Upvotes: 105\n",
      "Permalink: https://reddit.com/r/femalefashionadvice/comments/5rgaam/waywt_february_01_2017/dd72crh\n",
      "\n",
      "\n",
      "Author: /u/BlueSpiritBlues\n",
      "Upvotes: 103\n",
      "Permalink: https://reddit.com/r/femalefashionadvice/comments/5tm3q4/waywt_february_12_2017/ddniypv\n",
      "\n",
      "\n",
      "Author: /u/SusannaCarmichael\n",
      "Upvotes: 97\n",
      "Permalink: https://reddit.com/r/femalefashionadvice/comments/5waqux/waywt_february_26_2017/de8quxg\n",
      "\n",
      "\n",
      "Author: /u/shercocked\n",
      "Upvotes: 96\n",
      "Permalink: https://reddit.com/r/femalefashionadvice/comments/5u89ok/waywt_february_15_2017/ddships\n",
      "\n",
      "\n",
      "Author: /u/somethings_nothings\n",
      "Upvotes: 96\n",
      "Permalink: https://reddit.com/r/femalefashionadvice/comments/5tm3q4/waywt_february_12_2017/ddnksu0\n",
      "\n",
      "\n",
      "Author: /u/ayiyi\n",
      "Upvotes: 93\n",
      "Permalink: https://reddit.com/r/femalefashionadvice/comments/5vjhx0/waywt_february_22_2017/de2np2z\n",
      "\n",
      "\n",
      "Author: /u/MonocleLewinsky\n",
      "Upvotes: 85\n",
      "Permalink: https://reddit.com/r/femalefashionadvice/comments/5stiil/waywt_february_08_2017/ddhp9gw\n",
      "\n",
      "\n",
      "Author: /u/BlueSpiritBlues\n",
      "Upvotes: 85\n",
      "Permalink: https://reddit.com/r/femalefashionadvice/comments/5s847m/waywt_february_05_2017/ddd488f\n",
      "\n",
      "\n",
      "Author: /u/sohungy\n",
      "Upvotes: 84\n",
      "Permalink: https://reddit.com/r/femalefashionadvice/comments/5stiil/waywt_february_08_2017/ddhq1oh\n",
      "\n",
      "\n",
      "Author: /u/saphydoodle\n",
      "Upvotes: 83\n",
      "Permalink: https://reddit.com/r/femalefashionadvice/comments/5u89ok/waywt_february_15_2017/ddsdf5o\n",
      "\n",
      "\n",
      "Author: /u/ceruleanmuse\n",
      "Upvotes: 80\n",
      "Permalink: https://reddit.com/r/femalefashionadvice/comments/5uyvqj/waywt_february_19_2017/ddxw5ba\n",
      "\n",
      "\n",
      "Author: /u/BlueSpiritBlues\n",
      "Upvotes: 78\n",
      "Permalink: https://reddit.com/r/femalefashionadvice/comments/5u89ok/waywt_february_15_2017/dds54vw\n",
      "\n",
      "\n",
      "Author: /u/villonious\n",
      "Upvotes: 77\n",
      "Permalink: https://reddit.com/r/femalefashionadvice/comments/5rgaam/waywt_february_01_2017/dd6yr0e\n",
      "\n",
      "\n",
      "Author: /u/muzzyhoo92\n",
      "Upvotes: 76\n",
      "Permalink: https://reddit.com/r/femalefashionadvice/comments/5waqux/waywt_february_26_2017/de8mjjn\n",
      "\n",
      "\n",
      "Author: /u/imogenimpulse\n",
      "Upvotes: 73\n",
      "Permalink: https://reddit.com/r/femalefashionadvice/comments/5u89ok/waywt_february_15_2017/ddshqzt\n",
      "\n",
      "\n",
      "Author: /u/villonious\n",
      "Upvotes: 72\n",
      "Permalink: https://reddit.com/r/femalefashionadvice/comments/5waqux/waywt_february_26_2017/de8o2fb\n",
      "\n",
      "\n",
      "Author: /u/earth_rises\n",
      "Upvotes: 71\n",
      "Permalink: https://reddit.com/r/femalefashionadvice/comments/5rgaam/waywt_february_01_2017/dd73qqj\n",
      "\n",
      "\n",
      "Author: /u/BlueSpiritBlues\n",
      "Upvotes: 69\n",
      "Permalink: https://reddit.com/r/femalefashionadvice/comments/5waqux/waywt_february_26_2017/de93lv0\n",
      "\n",
      "\n",
      "Author: /u/Scrap-Icon\n",
      "Upvotes: 68\n",
      "Permalink: https://reddit.com/r/femalefashionadvice/comments/5uyvqj/waywt_february_19_2017/ddy0dxj\n",
      "\n",
      "\n",
      "Author: /u/averagefruit\n",
      "Upvotes: 66\n",
      "Permalink: https://reddit.com/r/femalefashionadvice/comments/5vjhx0/waywt_february_22_2017/de2mlpz\n",
      "\n",
      "\n",
      "Author: /u/BlueSpiritBlues\n",
      "Upvotes: 65\n",
      "Permalink: https://reddit.com/r/femalefashionadvice/comments/5vjhx0/waywt_february_22_2017/de2o3h5\n",
      "\n",
      "\n",
      "Author: /u/villonious\n",
      "Upvotes: 65\n",
      "Permalink: https://reddit.com/r/femalefashionadvice/comments/5tm3q4/waywt_february_12_2017/ddnrafw\n",
      "\n",
      "\n",
      "Author: /u/aftertheswimmingpool\n",
      "Upvotes: 64\n",
      "Permalink: https://reddit.com/r/femalefashionadvice/comments/5s847m/waywt_february_05_2017/ddd2ivh\n",
      "\n",
      "\n",
      "Author: /u/useafuckingcoaster\n",
      "Upvotes: 63\n",
      "Permalink: https://reddit.com/r/femalefashionadvice/comments/5rgaam/waywt_february_01_2017/dd70bkl\n",
      "\n",
      "\n",
      "Author: /u/pirumparum1\n",
      "Upvotes: 62\n",
      "Permalink: https://reddit.com/r/femalefashionadvice/comments/5uyvqj/waywt_february_19_2017/ddyg843\n",
      "\n",
      "\n",
      "Author: /u/BlueSpiritBlues\n",
      "Upvotes: 62\n",
      "Permalink: https://reddit.com/r/femalefashionadvice/comments/5uyvqj/waywt_february_19_2017/ddxz0s8\n",
      "\n",
      "\n",
      "Author: /u/omiiii\n",
      "Upvotes: 61\n",
      "Permalink: https://reddit.com/r/femalefashionadvice/comments/5vjhx0/waywt_february_22_2017/de2j361\n",
      "\n",
      "\n",
      "Author: /u/earth_rises\n",
      "Upvotes: 61\n",
      "Permalink: https://reddit.com/r/femalefashionadvice/comments/5stiil/waywt_february_08_2017/ddhoq9q\n",
      "\n",
      "\n",
      "Author: /u/somethings_nothings\n",
      "Upvotes: 60\n",
      "Permalink: https://reddit.com/r/femalefashionadvice/comments/5waqux/waywt_february_26_2017/de8pwc3\n",
      "\n",
      "\n"
     ]
    }
   ],
   "source": [
    "print_top_n_comments(LIMIT, sorted_comments)"
   ]
  },
  {
   "cell_type": "code",
   "execution_count": 18,
   "metadata": {},
   "outputs": [],
   "source": [
    "def create_post_text(comments):\n",
    "    title = \"## TOP OF WAYWT: {0} {1}\\n\".format(calendar.month_name[MONTH], YEAR)\n",
    "\n",
    "    # See https://www.reddit.com/wiki/commenting\n",
    "    table_header = \"Rank | Comment | User | Upvotes\\n\" + \\\n",
    "                   \"---- | ---- | ---- | -------\\n\"\n",
    "\n",
    "    row = \"{rank} | [{post_title}](https://reddit.com{permalink}) | /u/{user} | +{upvotes}\\n\"\n",
    "\n",
    "    post = title + '\\n' + table_header\n",
    "\n",
    "    # You could speed this up by refactoring to keep the submission title\n",
    "    # with each comment, or by just making the permalink text just say 'link'.\n",
    "    for i, comment in enumerate(comments):\n",
    "        post += row.format(\n",
    "            rank=i+1,\n",
    "            permalink=comment.permalink(),\n",
    "            user=comment.author,\n",
    "            upvotes=comment.ups,\n",
    "            post_title=reddit.submission(id=comment._extract_submission_id()).title\n",
    "        )\n",
    "    return post"
   ]
  },
  {
   "cell_type": "code",
   "execution_count": 19,
   "metadata": {},
   "outputs": [],
   "source": [
    "# This will take a little while\n",
    "top_of_waywt_post = create_post_text(sorted_comments[:LIMIT])"
   ]
  },
  {
   "cell_type": "code",
   "execution_count": 20,
   "metadata": {},
   "outputs": [
    {
     "name": "stdout",
     "output_type": "stream",
     "text": [
      "## TOP OF WAYWT: February 2017\n",
      "\n",
      "Rank | Comment | User | Upvotes\n",
      "---- | ---- | ---- | -------\n",
      "1 | [WAYWT - February 26, 2017](https://reddit.com/r/femalefashionadvice/comments/5waqux/waywt_february_26_2017/de8oszc) | /u/Wasmand | +178\n",
      "2 | [WAYWT - February 15, 2017](https://reddit.com/r/femalefashionadvice/comments/5u89ok/waywt_february_15_2017/dds52c9) | /u/sohungy | +141\n",
      "3 | [WAYWT - February 05, 2017](https://reddit.com/r/femalefashionadvice/comments/5s847m/waywt_february_05_2017/ddd7aw1) | /u/smolherring | +128\n",
      "4 | [WAYWT - February 01, 2017](https://reddit.com/r/femalefashionadvice/comments/5rgaam/waywt_february_01_2017/dd7dgp6) | /u/shercocked | +118\n",
      "5 | [WAYWT - February 26, 2017](https://reddit.com/r/femalefashionadvice/comments/5waqux/waywt_february_26_2017/de8q9sw) | /u/sohungy | +108\n",
      "6 | [WAYWT - February 01, 2017](https://reddit.com/r/femalefashionadvice/comments/5rgaam/waywt_february_01_2017/dd72crh) | /u/ayiyi | +105\n",
      "7 | [WAYWT - February 12, 2017](https://reddit.com/r/femalefashionadvice/comments/5tm3q4/waywt_february_12_2017/ddniypv) | /u/BlueSpiritBlues | +103\n",
      "8 | [WAYWT - February 26, 2017](https://reddit.com/r/femalefashionadvice/comments/5waqux/waywt_february_26_2017/de8quxg) | /u/SusannaCarmichael | +97\n",
      "9 | [WAYWT - February 15, 2017](https://reddit.com/r/femalefashionadvice/comments/5u89ok/waywt_february_15_2017/ddships) | /u/shercocked | +96\n",
      "10 | [WAYWT - February 12, 2017](https://reddit.com/r/femalefashionadvice/comments/5tm3q4/waywt_february_12_2017/ddnksu0) | /u/somethings_nothings | +96\n",
      "11 | [WAYWT - February 22, 2017](https://reddit.com/r/femalefashionadvice/comments/5vjhx0/waywt_february_22_2017/de2np2z) | /u/ayiyi | +93\n",
      "12 | [WAYWT - February 08, 2017](https://reddit.com/r/femalefashionadvice/comments/5stiil/waywt_february_08_2017/ddhp9gw) | /u/MonocleLewinsky | +85\n",
      "13 | [WAYWT - February 05, 2017](https://reddit.com/r/femalefashionadvice/comments/5s847m/waywt_february_05_2017/ddd488f) | /u/BlueSpiritBlues | +85\n",
      "14 | [WAYWT - February 08, 2017](https://reddit.com/r/femalefashionadvice/comments/5stiil/waywt_february_08_2017/ddhq1oh) | /u/sohungy | +84\n",
      "15 | [WAYWT - February 15, 2017](https://reddit.com/r/femalefashionadvice/comments/5u89ok/waywt_february_15_2017/ddsdf5o) | /u/saphydoodle | +83\n",
      "16 | [WAYWT - February 19, 2017](https://reddit.com/r/femalefashionadvice/comments/5uyvqj/waywt_february_19_2017/ddxw5ba) | /u/ceruleanmuse | +80\n",
      "17 | [WAYWT - February 15, 2017](https://reddit.com/r/femalefashionadvice/comments/5u89ok/waywt_february_15_2017/dds54vw) | /u/BlueSpiritBlues | +78\n",
      "18 | [WAYWT - February 01, 2017](https://reddit.com/r/femalefashionadvice/comments/5rgaam/waywt_february_01_2017/dd6yr0e) | /u/villonious | +77\n",
      "19 | [WAYWT - February 26, 2017](https://reddit.com/r/femalefashionadvice/comments/5waqux/waywt_february_26_2017/de8mjjn) | /u/muzzyhoo92 | +76\n",
      "20 | [WAYWT - February 15, 2017](https://reddit.com/r/femalefashionadvice/comments/5u89ok/waywt_february_15_2017/ddshqzt) | /u/imogenimpulse | +73\n",
      "21 | [WAYWT - February 26, 2017](https://reddit.com/r/femalefashionadvice/comments/5waqux/waywt_february_26_2017/de8o2fb) | /u/villonious | +72\n",
      "22 | [WAYWT - February 01, 2017](https://reddit.com/r/femalefashionadvice/comments/5rgaam/waywt_february_01_2017/dd73qqj) | /u/earth_rises | +71\n",
      "23 | [WAYWT - February 26, 2017](https://reddit.com/r/femalefashionadvice/comments/5waqux/waywt_february_26_2017/de93lv0) | /u/BlueSpiritBlues | +69\n",
      "24 | [WAYWT - February 19, 2017](https://reddit.com/r/femalefashionadvice/comments/5uyvqj/waywt_february_19_2017/ddy0dxj) | /u/Scrap-Icon | +68\n",
      "25 | [WAYWT - February 22, 2017](https://reddit.com/r/femalefashionadvice/comments/5vjhx0/waywt_february_22_2017/de2mlpz) | /u/averagefruit | +66\n",
      "26 | [WAYWT - February 22, 2017](https://reddit.com/r/femalefashionadvice/comments/5vjhx0/waywt_february_22_2017/de2o3h5) | /u/BlueSpiritBlues | +65\n",
      "27 | [WAYWT - February 12, 2017](https://reddit.com/r/femalefashionadvice/comments/5tm3q4/waywt_february_12_2017/ddnrafw) | /u/villonious | +65\n",
      "28 | [WAYWT - February 05, 2017](https://reddit.com/r/femalefashionadvice/comments/5s847m/waywt_february_05_2017/ddd2ivh) | /u/aftertheswimmingpool | +64\n",
      "29 | [WAYWT - February 01, 2017](https://reddit.com/r/femalefashionadvice/comments/5rgaam/waywt_february_01_2017/dd70bkl) | /u/useafuckingcoaster | +63\n",
      "30 | [WAYWT - February 19, 2017](https://reddit.com/r/femalefashionadvice/comments/5uyvqj/waywt_february_19_2017/ddyg843) | /u/pirumparum1 | +62\n",
      "31 | [WAYWT - February 19, 2017](https://reddit.com/r/femalefashionadvice/comments/5uyvqj/waywt_february_19_2017/ddxz0s8) | /u/BlueSpiritBlues | +62\n",
      "32 | [WAYWT - February 22, 2017](https://reddit.com/r/femalefashionadvice/comments/5vjhx0/waywt_february_22_2017/de2j361) | /u/omiiii | +61\n",
      "33 | [WAYWT - February 08, 2017](https://reddit.com/r/femalefashionadvice/comments/5stiil/waywt_february_08_2017/ddhoq9q) | /u/earth_rises | +61\n",
      "34 | [WAYWT - February 26, 2017](https://reddit.com/r/femalefashionadvice/comments/5waqux/waywt_february_26_2017/de8pwc3) | /u/somethings_nothings | +60\n",
      "\n"
     ]
    }
   ],
   "source": [
    "print(top_of_waywt_post)"
   ]
  },
  {
   "cell_type": "markdown",
   "metadata": {},
   "source": [
    "Below is the output of the above in markdown, for human-checking that it came out right.\n",
    "\n",
    "The script-generated output does not match with the original post. I think it's because the original post omitted the February 12th WAYWT. The upvotes do not match due to a time difference in when the data was collected (at the time people could have gone and upvoted the comments after seeing them via the 'Top of' post). /u/Bloopity_bloop_bloop deleted their comment since the original 'Top of' post, and it did not get included here."
   ]
  },
  {
   "cell_type": "markdown",
   "metadata": {},
   "source": [
    "## TOP OF WAYWT: February 2017\n",
    "\n",
    "Rank | Comment | User | Upvotes\n",
    "---- | ---- | ---- | -------\n",
    "1 | [WAYWT - February 26, 2017](https://reddit.com/r/femalefashionadvice/comments/5waqux/waywt_february_26_2017/de8oszc) | /u/Wasmand | +177\n",
    "2 | [WAYWT - February 15, 2017](https://reddit.com/r/femalefashionadvice/comments/5u89ok/waywt_february_15_2017/dds52c9) | /u/sohungy | +140\n",
    "3 | [WAYWT - February 05, 2017](https://reddit.com/r/femalefashionadvice/comments/5s847m/waywt_february_05_2017/ddd7aw1) | /u/smolherring | +128\n",
    "4 | [WAYWT - February 01, 2017](https://reddit.com/r/femalefashionadvice/comments/5rgaam/waywt_february_01_2017/dd7dgp6) | /u/shercocked | +119\n",
    "5 | [WAYWT - February 12, 2017](https://reddit.com/r/femalefashionadvice/comments/5tm3q4/waywt_february_12_2017/ddniypv) | /u/BlueSpiritBlues | +108\n",
    "6 | [WAYWT - February 26, 2017](https://reddit.com/r/femalefashionadvice/comments/5waqux/waywt_february_26_2017/de8q9sw) | /u/sohungy | +106\n",
    "7 | [WAYWT - February 01, 2017](https://reddit.com/r/femalefashionadvice/comments/5rgaam/waywt_february_01_2017/dd72crh) | /u/ayiyi | +102\n",
    "8 | [WAYWT - February 15, 2017](https://reddit.com/r/femalefashionadvice/comments/5u89ok/waywt_february_15_2017/ddships) | /u/shercocked | +97\n",
    "9 | [WAYWT - February 26, 2017](https://reddit.com/r/femalefashionadvice/comments/5waqux/waywt_february_26_2017/de8quxg) | /u/SusannaCarmichael | +94\n",
    "10 | [WAYWT - February 22, 2017](https://reddit.com/r/femalefashionadvice/comments/5vjhx0/waywt_february_22_2017/de2np2z) | /u/ayiyi | +94\n",
    "11 | [WAYWT - February 12, 2017](https://reddit.com/r/femalefashionadvice/comments/5tm3q4/waywt_february_12_2017/ddnksu0) | /u/somethings_nothings | +91\n",
    "12 | [WAYWT - February 15, 2017](https://reddit.com/r/femalefashionadvice/comments/5u89ok/waywt_february_15_2017/ddsdf5o) | /u/saphydoodle | +87\n",
    "13 | [WAYWT - February 05, 2017](https://reddit.com/r/femalefashionadvice/comments/5s847m/waywt_february_05_2017/ddd488f) | /u/BlueSpiritBlues | +86\n",
    "14 | [WAYWT - February 08, 2017](https://reddit.com/r/femalefashionadvice/comments/5stiil/waywt_february_08_2017/ddhp9gw) | /u/MonocleLewinsky | +85\n",
    "15 | [WAYWT - February 08, 2017](https://reddit.com/r/femalefashionadvice/comments/5stiil/waywt_february_08_2017/ddhq1oh) | /u/sohungy | +82\n",
    "16 | [WAYWT - February 19, 2017](https://reddit.com/r/femalefashionadvice/comments/5uyvqj/waywt_february_19_2017/ddxw5ba) | /u/ceruleanmuse | +79\n",
    "17 | [WAYWT - February 01, 2017](https://reddit.com/r/femalefashionadvice/comments/5rgaam/waywt_february_01_2017/dd6yr0e) | /u/villonious | +77\n",
    "18 | [WAYWT - February 26, 2017](https://reddit.com/r/femalefashionadvice/comments/5waqux/waywt_february_26_2017/de8mjjn) | /u/muzzyhoo92 | +76\n",
    "19 | [WAYWT - February 15, 2017](https://reddit.com/r/femalefashionadvice/comments/5u89ok/waywt_february_15_2017/dds54vw) | /u/BlueSpiritBlues | +76\n",
    "20 | [WAYWT - February 26, 2017](https://reddit.com/r/femalefashionadvice/comments/5waqux/waywt_february_26_2017/de93lv0) | /u/BlueSpiritBlues | +73\n",
    "21 | [WAYWT - February 15, 2017](https://reddit.com/r/femalefashionadvice/comments/5u89ok/waywt_february_15_2017/ddshqzt) | /u/imogenimpulse | +73\n",
    "22 | [WAYWT - February 01, 2017](https://reddit.com/r/femalefashionadvice/comments/5rgaam/waywt_february_01_2017/dd73qqj) | /u/earth_rises | +71\n",
    "23 | [WAYWT - February 19, 2017](https://reddit.com/r/femalefashionadvice/comments/5uyvqj/waywt_february_19_2017/ddy0dxj) | /u/Scrap-Icon | +68\n",
    "24 | [WAYWT - February 22, 2017](https://reddit.com/r/femalefashionadvice/comments/5vjhx0/waywt_february_22_2017/de2o3h5) | /u/BlueSpiritBlues | +67\n",
    "25 | [WAYWT - February 12, 2017](https://reddit.com/r/femalefashionadvice/comments/5tm3q4/waywt_february_12_2017/ddnrafw) | /u/villonious | +67\n",
    "26 | [WAYWT - February 26, 2017](https://reddit.com/r/femalefashionadvice/comments/5waqux/waywt_february_26_2017/de8o2fb) | /u/villonious | +66\n",
    "27 | [WAYWT - February 22, 2017](https://reddit.com/r/femalefashionadvice/comments/5vjhx0/waywt_february_22_2017/de2mlpz) | /u/averagefruit | +65\n",
    "28 | [WAYWT - February 05, 2017](https://reddit.com/r/femalefashionadvice/comments/5s847m/waywt_february_05_2017/ddd2ivh) | /u/aftertheswimmingpool | +64\n",
    "29 | [WAYWT - February 08, 2017](https://reddit.com/r/femalefashionadvice/comments/5stiil/waywt_february_08_2017/ddhoq9q) | /u/earth_rises | +63\n",
    "30 | [WAYWT - February 01, 2017](https://reddit.com/r/femalefashionadvice/comments/5rgaam/waywt_february_01_2017/dd70bkl) | /u/useafuckingcoaster | +63\n",
    "31 | [WAYWT - February 22, 2017](https://reddit.com/r/femalefashionadvice/comments/5vjhx0/waywt_february_22_2017/de2j361) | /u/omiiii | +61\n",
    "32 | [WAYWT - February 19, 2017](https://reddit.com/r/femalefashionadvice/comments/5uyvqj/waywt_february_19_2017/ddxz0s8) | /u/BlueSpiritBlues | +59\n",
    "33 | [WAYWT - February 01, 2017](https://reddit.com/r/femalefashionadvice/comments/5rgaam/waywt_february_01_2017/dd6zgdz) | /u/-lyrota- | +59\n",
    "34 | [WAYWT - February 26, 2017](https://reddit.com/r/femalefashionadvice/comments/5waqux/waywt_february_26_2017/de8pwc3) | /u/somethings_nothings | +58"
   ]
  },
  {
   "cell_type": "code",
   "execution_count": null,
   "metadata": {
    "collapsed": true
   },
   "outputs": [],
   "source": []
  }
 ],
 "metadata": {
  "kernelspec": {
   "display_name": "Python 3",
   "language": "python",
   "name": "python3"
  },
  "language_info": {
   "codemirror_mode": {
    "name": "ipython",
    "version": 3
   },
   "file_extension": ".py",
   "mimetype": "text/x-python",
   "name": "python",
   "nbconvert_exporter": "python",
   "pygments_lexer": "ipython3",
   "version": "3.5.4"
  }
 },
 "nbformat": 4,
 "nbformat_minor": 2
}
